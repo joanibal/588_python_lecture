{
 "cells": [
  {
   "cell_type": "markdown",
   "metadata": {},
   "source": [
    "Hi 588 students!  \n",
    "The following is a brief introduction into python specifically geared toward those with a background in matlab!\n",
    "\n",
    "I didn't include much about syntax since you can find that elsewhere on the internet. Just google the syntax error and someone on stackoverflow will help you out.\n"
   ]
  },
  {
   "cell_type": "markdown",
   "metadata": {},
   "source": [
    "# General class advice \n",
    "- Assignment 2 is used in 3,4, and 5 so spend some time  to make your unconstrianded optimizer good!\n",
    "- Check your results against hand/matlab calculations (particularly when doing linear algebra). \n",
    "- Use a debugger! \n",
    "- Use python 3\n"
   ]
  },
  {
   "cell_type": "markdown",
   "metadata": {},
   "source": [
    "# Fundementals of Python\n",
    "\n",
    "### What is Python?\n",
    "Python is a \"interpreted, high-level, **general-purpose** programming language\".\n",
    "It is **NOT** specifically built for math, science, or engineering like other programing languages you may be familiar with such as Matlab, R, Mathematica, or Fortran. Becuase of this you may find some aspects of it a bit unintuitive initially.\n",
    "\n",
    "ABC, a forerunner to python, was created to be an educational langauge. As a result, a lot of the syntax of python is intended to make the code as easy to read and understand as posible. \n",
    "\n",
    "\n",
    "\n",
    "# Basic data types\n",
    "\n",
    "\n",
    "| Data Type       | Meaning | mutability|\n",
    "| ----------- | ----------- | ----------- |\n",
    "bool | boolean value | immutable |\n",
    "int | integer | immutable|\n",
    "float | floating-point number | immutable|\n",
    "list | sequence of objects | mutable |\n",
    "tuple | sequence of objects | immutable |\n",
    "str | character string | immutable |\n",
    "set | unordered group of distinct objects | mutable |\n",
    "frozenset | unordered group of distinct objects | immutable |\n",
    "dict | associatrive mapping | mutable |\n",
    "\n",
    "Hopefully most of these data types are already familiar to you. \n",
    "\n",
    "For more info vist https://docs.python.org/3/tutorial/datastructures.html#\n"
   ]
  },
  {
   "cell_type": "markdown",
   "metadata": {},
   "source": [
    "## Data types that might be new to you\n",
    "\n",
    "### list\n",
    "lists are objects which hold a sequence of other objects in a particular order. The types of the objects in the list do not need to match."
   ]
  },
  {
   "cell_type": "code",
   "execution_count": 95,
   "metadata": {},
   "outputs": [
    {
     "name": "stdout",
     "output_type": "stream",
     "text": [
      "[1, 2.0, 'foo', <built-in function len>, [1, 2]]\n"
     ]
    }
   ],
   "source": [
    "mylist = [1, 2.0, 'foo', len, [1, 2]]\n",
    "print(mylist)"
   ]
  },
  {
   "cell_type": "code",
   "execution_count": 97,
   "metadata": {},
   "outputs": [
    {
     "name": "stdout",
     "output_type": "stream",
     "text": [
      "The fist item in the list is 1\n"
     ]
    }
   ],
   "source": [
    "# you can index a list like like this list[index], beaware that the index is 0-based!\n",
    "print('The fist item in the list is', mylist[0])"
   ]
  },
  {
   "cell_type": "markdown",
   "metadata": {},
   "source": [
    "### tuples\n",
    "tuples are just an immutable version of a list.\n",
    "When multiple values are returned from a fucntion they are returned as a tuple."
   ]
  },
  {
   "cell_type": "code",
   "execution_count": 90,
   "metadata": {},
   "outputs": [
    {
     "name": "stdout",
     "output_type": "stream",
     "text": [
      "a is <class 'tuple'> and has the values ('bar', 'cat')\n"
     ]
    }
   ],
   "source": [
    "def foo():\n",
    "    return 'bar', 'cat'\n",
    "\n",
    "a = foo()\n",
    "print('a is',type(a), 'and has the values', a)\n"
   ]
  },
  {
   "cell_type": "code",
   "execution_count": 99,
   "metadata": {},
   "outputs": [
    {
     "ename": "TypeError",
     "evalue": "'tuple' object does not support item assignment",
     "output_type": "error",
     "traceback": [
      "\u001b[0;31m---------------------------------------------------------------------------\u001b[0m",
      "\u001b[0;31mTypeError\u001b[0m                                 Traceback (most recent call last)",
      "\u001b[0;32m<ipython-input-99-882aecab760a>\u001b[0m in \u001b[0;36m<module>\u001b[0;34m\u001b[0m\n\u001b[1;32m      1\u001b[0m \u001b[0;31m# i *can't* change the objects held in the tuple becuase it is immutable\u001b[0m\u001b[0;34m\u001b[0m\u001b[0;34m\u001b[0m\u001b[0m\n\u001b[1;32m      2\u001b[0m \u001b[0;31m# if I attempt to do so it will cause an error\u001b[0m\u001b[0;34m\u001b[0m\u001b[0;34m\u001b[0m\u001b[0m\n\u001b[0;32m----> 3\u001b[0;31m \u001b[0ma\u001b[0m\u001b[0;34m[\u001b[0m\u001b[0;36m0\u001b[0m\u001b[0;34m]\u001b[0m \u001b[0;34m=\u001b[0m \u001b[0;34m'BAR'\u001b[0m\u001b[0;34m\u001b[0m\u001b[0m\n\u001b[0m",
      "\u001b[0;31mTypeError\u001b[0m: 'tuple' object does not support item assignment"
     ]
    }
   ],
   "source": [
    "# I **can't** change the objects held by the tuple becuase it is immutable\n",
    "# if I attempt to do so it will cause an error\n",
    "a[0] = 'BAR'"
   ]
  },
  {
   "cell_type": "code",
   "execution_count": 93,
   "metadata": {},
   "outputs": [
    {
     "name": "stdout",
     "output_type": "stream",
     "text": [
      "word1 is bar and word2 is cat\n"
     ]
    }
   ],
   "source": [
    "# you can assign the output of foo to different variables and not one tuple...\n",
    "word1, word2 = foo()\n",
    "print('word1 is', word1, 'and word2 is', word2)"
   ]
  },
  {
   "cell_type": "markdown",
   "metadata": {},
   "source": [
    "### dictionaries\n",
    "A dictionary holds pairs of keys and values. \n",
    "When indexed with a particular key, the corresponding value is returned.\n",
    "The keys of a dictionary can be any immutable object."
   ]
  },
  {
   "cell_type": "code",
   "execution_count": 279,
   "metadata": {},
   "outputs": [
    {
     "name": "stdout",
     "output_type": "stream",
     "text": [
      "bar\n",
      "myDict has the following key value pairs\n",
      "key: foo , value: bar\n",
      "key: 2 , value: [0, 2]\n",
      "key: (0, 1) , value: 7.002\n"
     ]
    }
   ],
   "source": [
    "myDict = {\n",
    "    'foo': 'bar',\n",
    "    2: [0,2],\n",
    "    (0,1): 7.002,\n",
    "}\n",
    "\n",
    "# you can access a value in a dict by passing it the corresponding key\n",
    "print(myDict['foo'])\n",
    "\n",
    "print('myDict has the following key value pairs')\n",
    "for key in myDict.keys():\n",
    "    print('key:',key,', value:',myDict[key])"
   ]
  },
  {
   "cell_type": "markdown",
   "metadata": {},
   "source": [
    "### sets and frozensets\n",
    "I wouldn't worry about sets and forzenset for this class"
   ]
  },
  {
   "cell_type": "markdown",
   "metadata": {},
   "source": [
    "## Data types for scientific computing\n",
    "Python objects are not particularly well suited for solving numerical problems.\n",
    "`numpy` helps solve this problem by introducing data structures.\n",
    "\n",
    "\n",
    "| data structure       | Meaning | mutability|\n",
    "| ----------- | ----------- | ----------- |\n",
    "array | stores numbers in n-D | mutable |\n",
    "matrix | stores numbers in 2-D  | mutable|\n",
    "\n",
    "Numpy is a not included in the standard python library, so you will need to install it seperately (You will also need to get scipy as well).\n",
    "This should be done for you if you install anaconda."
   ]
  },
  {
   "cell_type": "markdown",
   "metadata": {},
   "source": [
    "\n",
    "Numpy array are n-dimensional and can be used to represent any order of tensors.\n",
    "Unlike lists, the data within an array must all be the same type!\n",
    "\n",
    "operators such as `+,-,/,*` act element wise on numpy arrays!\n",
    "This is an important diffence from matlab where you must indclude a `.` to apply an operator elementwise!\n"
   ]
  },
  {
   "cell_type": "code",
   "execution_count": 116,
   "metadata": {},
   "outputs": [
    {
     "name": "stdout",
     "output_type": "stream",
     "text": [
      "oneDimArray has shape (3,)\n",
      "twoDimArray has shape (2, 3)\n",
      "threeDimArray has shape (2, 2, 3)\n"
     ]
    }
   ],
   "source": [
    "import numpy as np #a typical way of importing numpy into as script\n",
    "\n",
    "# this array has only one dimension! unlike matlab where everything is at a minimum 2-D\n",
    "oneDimArray = np.array([1,2,3])\n",
    "\n",
    "# the following arrays have multiple dimensions\n",
    "twoDimArray = np.array([[1,2,3], [1,2,3]])\n",
    "threeDimArray = np.array([[[1,2,3], [1,2,3]], [[1,2,3], [1,2,3]]])\n",
    "\n",
    "\n",
    "print('oneDimArray has shape',oneDimArray.shape)\n",
    "print('twoDimArray has shape',twoDimArray.shape)\n",
    "print('threeDimArray has shape',threeDimArray.shape)"
   ]
  },
  {
   "cell_type": "markdown",
   "metadata": {},
   "source": [
    "Numpy matrices are strically 2-dimnsional and are more analogous to matracies in matlab.  \n"
   ]
  },
  {
   "cell_type": "code",
   "execution_count": null,
   "metadata": {},
   "outputs": [],
   "source": [
    "myMatrix = np.matrix([[1,2,3], [1,2,3]])\n",
    "print('myMatrix has shape',myMatrix.shape)\n"
   ]
  },
  {
   "cell_type": "markdown",
   "metadata": {},
   "source": [
    "## You **should** checkout the following site to learn more about how to use numpy \n",
    "\n",
    "\n",
    "https://nbviewer.jupyter.org/github/jrjohansson/scientific-python-lectures/blob/master/Lecture-2-Numpy.ipynb\n"
   ]
  },
  {
   "cell_type": "markdown",
   "metadata": {},
   "source": [
    "### Warning about copying mutable objects\n",
    "\n",
    "when you assign the value of a mutable object to a new varible, the new varible acts as a reference to the same mutable object."
   ]
  },
  {
   "cell_type": "code",
   "execution_count": 131,
   "metadata": {},
   "outputs": [
    {
     "name": "stdout",
     "output_type": "stream",
     "text": [
      "array1 has the initial value [1 2 3]\n",
      "now array1 has the value [2 3 4]\n",
      "They are the same object? True\n"
     ]
    }
   ],
   "source": [
    "# create an array (a mutable object)\n",
    "array1 = np.array([1, 2, 3])\n",
    "print('array1 has the initial value', array1)\n",
    "\n",
    "# now i'm going to assign array1 to a new varible \n",
    "array2 = array1\n",
    "\n",
    "# now I'm going to do some operation on array2\n",
    "array2 += 1 # add one to all values\n",
    "\n",
    "print('now array1 has the value', array1)\n",
    "\n",
    "\n",
    "#if you look at the address of the memoroy associated with each array you can see \n",
    "# they are actually the same object!!!\n",
    "print('They are the same object?',id(array1) == id(array2))\n"
   ]
  },
  {
   "cell_type": "markdown",
   "metadata": {},
   "source": [
    "If you would like to create a copy of a mutable object there is a few things you can do.."
   ]
  },
  {
   "cell_type": "code",
   "execution_count": 132,
   "metadata": {},
   "outputs": [
    {
     "name": "stdout",
     "output_type": "stream",
     "text": [
      "They are the same object? False\n",
      "They are the same object? False\n"
     ]
    }
   ],
   "source": [
    "# if you assign a varible to a slice of an array, it will create an new object\n",
    "array3 = array1[:]\n",
    "print('They are the same object?',id(array1) == id(array3))\n",
    "\n",
    "\n",
    "# a better way is to use the copy library. This makes the code a bit easier to understand \n",
    "# and will work for any mutable object!\n",
    "import copy\n",
    "array4 = copy.copy(array1)\n",
    "print('They are the same object?',id(array1) == id(array4))\n",
    "\n"
   ]
  },
  {
   "cell_type": "markdown",
   "metadata": {},
   "source": [
    "# linear algebra  example\n",
    "\n",
    "\n",
    "$$ C = \\frac{Axx^TA}{x^TAx} + \\frac{zz^T}{x^Tz}$$"
   ]
  },
  {
   "cell_type": "code",
   "execution_count": 234,
   "metadata": {},
   "outputs": [],
   "source": [
    "x = np.array([[2.],[3.]])\n",
    "z = np.array([[0.5],[0.5]])\n",
    "\n",
    "A = np.array([[1,2],[3,4]])\n"
   ]
  },
  {
   "cell_type": "markdown",
   "metadata": {},
   "source": [
    "#### The wrong way\n",
    "You may be tempted to do the following with arrays..\n"
   ]
  },
  {
   "cell_type": "code",
   "execution_count": 216,
   "metadata": {},
   "outputs": [
    {
     "data": {
      "text/plain": [
       "array([[1.25      , 2.16666667],\n",
       "       [3.25      , 4.16666667]])"
      ]
     },
     "execution_count": 216,
     "metadata": {},
     "output_type": "execute_result"
    }
   ],
   "source": [
    "A*x*x.T*A/(x.T*A*x) + z*z.T/(x.T*z)"
   ]
  },
  {
   "cell_type": "markdown",
   "metadata": {},
   "source": [
    "But will this method give us an answer that makes sense? How can we check?\n",
    "\n",
    "If we look at the formula we can see that the demoninator in both terms should be just a \n",
    "scalar, so lets see if that's true with this method."
   ]
  },
  {
   "cell_type": "code",
   "execution_count": 212,
   "metadata": {},
   "outputs": [
    {
     "name": "stdout",
     "output_type": "stream",
     "text": [
      "the fist denominator is [[ 4. 12.]\n",
      " [18. 36.]]\n",
      "the second denominator is [[1.  1.5]\n",
      " [1.  1.5]]\n"
     ]
    }
   ],
   "source": [
    "print('the fist denominator is', (x.T*A*x))\n",
    "print('the second denominator is', (x.T*z))"
   ]
  },
  {
   "cell_type": "markdown",
   "metadata": {},
   "source": [
    "That doesn't look right. What happened?\n",
    "The problems was that `*` always works element wise between arrays!\n",
    "**This is a very common mistake for students to make and a particularly tricky one since often the result has the intend shape**"
   ]
  },
  {
   "cell_type": "markdown",
   "metadata": {},
   "source": [
    "Another thing we could have checked is the rank of each term.\n",
    "You may have noticed that the numerators of each term will reduce\n",
    "to the outer product of two vectors. This means that each term should have a rank of 1"
   ]
  },
  {
   "cell_type": "code",
   "execution_count": 215,
   "metadata": {},
   "outputs": [
    {
     "name": "stdout",
     "output_type": "stream",
     "text": [
      "the rank of the first term is 2\n",
      "the rank of the first term is 1\n"
     ]
    }
   ],
   "source": [
    "print( 'the rank of the first term is', np.linalg.matrix_rank(A*x*x.T*A))\n",
    "print( 'the rank of the first term is', np.linalg.matrix_rank(z*z.T))\n"
   ]
  },
  {
   "cell_type": "markdown",
   "metadata": {},
   "source": [
    "Again we can see that just naively using the `*` operator for matrix algera won't give us the correct result"
   ]
  },
  {
   "cell_type": "markdown",
   "metadata": {},
   "source": [
    "#### The right way"
   ]
  },
  {
   "cell_type": "markdown",
   "metadata": {},
   "source": [
    "In python 3 the `@` opperator performs matrix multipliction between arrays"
   ]
  },
  {
   "cell_type": "code",
   "execution_count": 277,
   "metadata": {},
   "outputs": [
    {
     "data": {
      "text/plain": [
       "array([[1.35714286, 1.92857143],\n",
       "       [2.92857143, 4.21428571]])"
      ]
     },
     "execution_count": 277,
     "metadata": {},
     "output_type": "execute_result"
    }
   ],
   "source": [
    "\n",
    "#if you are using python 3 you can simply do\n",
    "A@x@x.T@A/(x.T@A@x) + z@z.T/(x.T@z)\n",
    "\n",
    "\n",
    "# print(x,A)"
   ]
  },
  {
   "cell_type": "markdown",
   "metadata": {},
   "source": [
    "For python 2 no such operator exists and as a result things get a bit ugly..."
   ]
  },
  {
   "cell_type": "code",
   "execution_count": 278,
   "metadata": {},
   "outputs": [
    {
     "data": {
      "text/plain": [
       "array([[1.35714286, 1.92857143],\n",
       "       [2.92857143, 4.21428571]])"
      ]
     },
     "execution_count": 278,
     "metadata": {},
     "output_type": "execute_result"
    }
   ],
   "source": [
    "\n",
    "# you can use np.inner and np.outer, but have to know when to use each. Be super careful!\n",
    "term1 = np.outer(np.inner(A,x.T), np.inner(A.T, x.T).T)/np.inner(np.inner(x.T, A),x.T)\n",
    "term2 = np.outer(z,z.T)/np.inner(x.T,z.T)\n",
    "term1 + term2 "
   ]
  },
  {
   "cell_type": "markdown",
   "metadata": {},
   "source": [
    "**Remember when programming, everthing is guilt until proven innocent. So be sure to check your linear algebra by hand/matlab!**"
   ]
  },
  {
   "cell_type": "markdown",
   "metadata": {},
   "source": [
    "## Basic operators\n",
    "\n",
    "| Operators (Decreasing order of precedence)       | Meaning |\n",
    "| ----------- | ----------- |\n",
    "| **      | Exponent       |\n",
    "| *, /, //, %   | Multiplication, Division, Floor division, Modulus        |\n",
    "|+, -  |  Addition, Subtraction   \\\n",
    "|<=, <, >, >= | Comparison operators|\n",
    "|=, %=, /=, //=, -=, +=, *=, **= | Assignment Operators|\n",
    "|is , is not | Identity operators|\n",
    "|in, not in | Membership operators|\n",
    "|not, or, and | Logical operators|\n",
    "\n",
    "Hopefully these are familiar to you. For more info is https://www.tutorialspoint.com/python/python_basic_operators.htm "
   ]
  },
  {
   "cell_type": "markdown",
   "metadata": {},
   "source": [
    "### **Warning** about integer divison\n",
    "\n",
    "In python 2.x the `/` operator will preform interger divison if the values on both sides of the operator are integers. This is an extremly common mistake!\n"
   ]
  },
  {
   "cell_type": "code",
   "execution_count": 114,
   "metadata": {},
   "outputs": [
    {
     "data": {
      "text/plain": [
       "0.6666666666666666"
      ]
     },
     "execution_count": 114,
     "metadata": {},
     "output_type": "execute_result"
    }
   ],
   "source": [
    "# the following would evluates to 0 in python 2.x\n",
    "2/3\n",
    "# but it doesn't in python 3.x as you can see"
   ]
  },
  {
   "cell_type": "markdown",
   "metadata": {},
   "source": [
    "### **Warning** about `is`\n",
    "\n",
    "The `is` operator checks to see if two objects refer to the location in memory not whether they are equvilent. Using the `is` operator is the same as `id(left object) == id(right object)` (in truth there are a few implementation diffences,  but thats not important for now). To see what this means lets see an examples."
   ]
  },
  {
   "cell_type": "code",
   "execution_count": 141,
   "metadata": {},
   "outputs": [
    {
     "name": "stdout",
     "output_type": "stream",
     "text": [
      "A and B are the same object? False\n",
      "A and B are the same object? False\n",
      "A and B are have the same value? True\n"
     ]
    }
   ],
   "source": [
    "A = 2/3\n",
    "B = 4/6\n",
    "\n",
    "print('A and B are the same object?', A is B)\n",
    "print('A and B are the same object?', id(A) == id(B))\n",
    "print('A and B are have the same value?', A == B)"
   ]
  },
  {
   "cell_type": "markdown",
   "metadata": {},
   "source": [
    "#### Where things can get a little weird\n",
    "`is` and `==` will work the same for integers from -5 to 256. This is becuase those integers are already allocated a spot in memory when python is started up."
   ]
  },
  {
   "cell_type": "code",
   "execution_count": 137,
   "metadata": {},
   "outputs": [
    {
     "name": "stdout",
     "output_type": "stream",
     "text": [
      "For 256  they are the same object? True\n",
      "For 257  they are the same object? False\n"
     ]
    }
   ],
   "source": [
    "a = 256\n",
    "b = 256\n",
    "\n",
    "print('For', a,'they are the same object?', a is b)\n",
    "\n",
    "\n",
    "a = 257\n",
    "b = 257\n",
    "\n",
    "print('For', a,'they are the same object?', a is b)\n"
   ]
  },
  {
   "cell_type": "markdown",
   "metadata": {},
   "source": [
    "**In short when checking for equal value use `==` not `is`**"
   ]
  },
  {
   "cell_type": "markdown",
   "metadata": {},
   "source": [
    "# Modules"
   ]
  },
  {
   "cell_type": "markdown",
   "metadata": {},
   "source": [
    "It's good practice to seperate your code in different modules (a module is just a python file that isn't run directly). For example you may want to keep the analysis functions in one module and keep functions related to optimization in another. \n",
    "\n",
    "In this example I have a seperate file called my `mymodule.py` which has definitions for the functions `addOne` and `subtractOne`"
   ]
  },
  {
   "cell_type": "code",
   "execution_count": 145,
   "metadata": {},
   "outputs": [
    {
     "name": "stdout",
     "output_type": "stream",
     "text": [
      "<function addOne at 0x7fd922faf8c8>\n"
     ]
    }
   ],
   "source": [
    "# You can import specfic objects from a module\n",
    "from mymodule import addOne, subtractOne\n",
    "\n",
    "print(addOne)"
   ]
  },
  {
   "cell_type": "code",
   "execution_count": 146,
   "metadata": {},
   "outputs": [
    {
     "name": "stdout",
     "output_type": "stream",
     "text": [
      "<function addOne at 0x7fd922faf8c8>\n"
     ]
    }
   ],
   "source": [
    "# or you can import the whole module\n",
    "import mymodule\n",
    "\n",
    "# add access objects in the module like this\n",
    "print(mymodule.addOne)"
   ]
  },
  {
   "cell_type": "markdown",
   "metadata": {},
   "source": [
    "# Functions"
   ]
  },
  {
   "cell_type": "markdown",
   "metadata": {},
   "source": [
    "In the cell below you will see an example of a function definiton. I'm only going to highlight some key diffences between fucntions in python and matlab"
   ]
  },
  {
   "cell_type": "code",
   "execution_count": 68,
   "metadata": {},
   "outputs": [],
   "source": [
    "def addStuff(a, b, c=10, d=30):\n",
    "    print('a is %s, b is %s, c is %s, d is %s'%(a,b,c,d))\n",
    "    return a + b + c + d"
   ]
  },
  {
   "cell_type": "markdown",
   "metadata": {},
   "source": [
    "### Keyword arguments\n",
    "one key difference between matlab and python is that python can accept *keyword arguments*.\n",
    "In the case of `addStuff` the keyword arguments are `c` and `d`.\n",
    "the keyword arguements are given a default value in the function delaration that is used unless specified otherwise."
   ]
  },
  {
   "cell_type": "code",
   "execution_count": 69,
   "metadata": {},
   "outputs": [
    {
     "name": "stdout",
     "output_type": "stream",
     "text": [
      "a is 1, b is 2, c is 10, d is 30\n"
     ]
    },
    {
     "data": {
      "text/plain": [
       "43"
      ]
     },
     "execution_count": 69,
     "metadata": {},
     "output_type": "execute_result"
    }
   ],
   "source": [
    "#You can call a function without the keywork arguments and the default values will be used\n",
    "addStuff(1,2)\n"
   ]
  },
  {
   "cell_type": "code",
   "execution_count": 71,
   "metadata": {},
   "outputs": [
    {
     "name": "stdout",
     "output_type": "stream",
     "text": [
      "a is 1, b is 2, c is 2, d is 2\n",
      "a is 1, b is 2, c is 5, d is 3\n",
      "a is 1, b is 2, c is 4, d is 30\n",
      "a is 1, b is 2, c is 10, d is 9\n"
     ]
    },
    {
     "data": {
      "text/plain": [
       "22"
      ]
     },
     "execution_count": 71,
     "metadata": {},
     "output_type": "execute_result"
    }
   ],
   "source": [
    "# You can also call a function with value for the keywork arguments passed by name\n",
    "addStuff(1,2, c=2, d=2)\n",
    "addStuff(1,2, d=3, c=5)\n",
    "addStuff(1,2, c=4)\n",
    "addStuff(1,2, d=9)\n"
   ]
  },
  {
   "cell_type": "code",
   "execution_count": 72,
   "metadata": {},
   "outputs": [
    {
     "name": "stdout",
     "output_type": "stream",
     "text": [
      "a is 1, b is 2, c is 2, d is 2\n",
      "a is 1, b is 2, c is 3, d is 5\n",
      "a is 1, b is 2, c is 4, d is 30\n"
     ]
    },
    {
     "data": {
      "text/plain": [
       "37"
      ]
     },
     "execution_count": 72,
     "metadata": {},
     "output_type": "execute_result"
    }
   ],
   "source": [
    "# Finally, you can call a function with value for the keywork arguments passed by position \n",
    "# I don't recommend doing this as it is not as easy to see what is happening \n",
    "addStuff(1,2, 2, 2)\n",
    "addStuff(1,2, 3, 5)\n",
    "addStuff(1,2, 4)\n"
   ]
  },
  {
   "cell_type": "markdown",
   "metadata": {},
   "source": [
    "### Passing functions into funtions\n",
    "In python a functions can take in any object as an argument.\n",
    "This means you can do things such as passing one function into another.\n",
    "**Your optimazation functions for 588 should be written so they can accept any function as input.**  \n",
    "\n",
    "An example of a function that uses another input function is given below"
   ]
  },
  {
   "cell_type": "code",
   "execution_count": 101,
   "metadata": {},
   "outputs": [],
   "source": [
    "def myFunc(func, a, optionsDict):\n",
    "    \"\"\"\n",
    "        an example function to show the syntax and features of python functions.\n",
    "        apllies the given function until zero is reached or the interation limit is \n",
    "        reached\n",
    "\n",
    "    Parameters\n",
    "        func: function\n",
    "            function which takes in a single integer input and returns an single integer\n",
    "        a: int\n",
    "            starting  value of the interation\n",
    "        optionsDic: dict\n",
    "            a dictionary which holds changes to the default options. in this case the\n",
    "            only option is the maximum number of iterations\n",
    "    \"\"\"\n",
    "\n",
    "    options = {\n",
    "        'maxIter': 10,\n",
    "    }\n",
    "\n",
    "    # For the values specified in the optionsDict, replace the corresponding ones in the\n",
    "    # options dictionary\n",
    "    for key in optionsDict.keys():\n",
    "        options[key] = optionsDict[key]\n",
    "\n",
    "    # apply the given function until the zero is reached or you reach the iteration limit\n",
    "    for ii in range(1, options['maxIter']+1):\n",
    "        a = func(a)\n",
    "\n",
    "        if a == 0:\n",
    "            print(\"zero reached in %s iterations\"%ii)\n",
    "            return\n",
    "\n",
    "    print(\"zero *NOT* reached after %s iterations\"%ii)\n",
    "    return"
   ]
  },
  {
   "cell_type": "code",
   "execution_count": 44,
   "metadata": {},
   "outputs": [
    {
     "name": "stdout",
     "output_type": "stream",
     "text": [
      "zero reached in 12 iterations\n"
     ]
    }
   ],
   "source": [
    "myFunc(subtractOne , 12, {'maxIter':20})"
   ]
  },
  {
   "cell_type": "code",
   "execution_count": 76,
   "metadata": {},
   "outputs": [
    {
     "name": "stdout",
     "output_type": "stream",
     "text": [
      "zero reached in 3 iterations\n"
     ]
    }
   ],
   "source": [
    "myFunc(addOne , -3, {})"
   ]
  },
  {
   "cell_type": "markdown",
   "metadata": {},
   "source": [
    "# Plotting\n",
    "\n",
    "There is already a good notebook explainning plotting so I will refer you to there.\n",
    "https://nbviewer.jupyter.org/github/johnjasa/python_tutorial/blob/master/Lecture-4-Matplotlib.ipynb"
   ]
  },
  {
   "cell_type": "markdown",
   "metadata": {},
   "source": [
    "# More topics to checkout\n",
    "\n",
    "While python is simple to learn it has also has many advanced aspects too. I wouldn't expect you to use the following ideas, but if you are curious about python and want to learn more here are a few more topics to checkout. \n",
    "\n",
    "- classes and objects\n",
    "- decorators\n",
    "- genorators \n",
    "- lambda functions\n",
    "- underscore methods\n",
    "- logging\n"
   ]
  }
 ],
 "metadata": {
  "kernelspec": {
   "display_name": "Python 3",
   "language": "python",
   "name": "python3"
  },
  "language_info": {
   "codemirror_mode": {
    "name": "ipython",
    "version": 3
   },
   "file_extension": ".py",
   "mimetype": "text/x-python",
   "name": "python",
   "nbconvert_exporter": "python",
   "pygments_lexer": "ipython3",
   "version": "3.6.6"
  }
 },
 "nbformat": 4,
 "nbformat_minor": 2
}
